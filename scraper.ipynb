{
 "cells": [
  {
   "cell_type": "code",
   "execution_count": 1,
   "id": "48c2803c",
   "metadata": {},
   "outputs": [],
   "source": [
    "import selenium \n",
    "from selenium import webdriver "
   ]
  },
  {
   "cell_type": "code",
   "execution_count": 2,
   "id": "d0f0de5a",
   "metadata": {},
   "outputs": [],
   "source": [
    "path = r'C:\\Program Files (x86)\\chromedriver.exe'"
   ]
  },
  {
   "cell_type": "code",
   "execution_count": 3,
   "id": "525415ea",
   "metadata": {},
   "outputs": [],
   "source": [
    "driver = webdriver.Chrome(path)\n"
   ]
  },
  {
   "cell_type": "code",
   "execution_count": 4,
   "id": "d8791d0b",
   "metadata": {},
   "outputs": [],
   "source": [
    "\n",
    "driver.get(\"https://www.walmart.com/reviews/product/14898365?sort=submission-asc\")"
   ]
  },
  {
   "cell_type": "code",
   "execution_count": 6,
   "id": "2e39b36a",
   "metadata": {},
   "outputs": [
    {
     "name": "stdout",
     "output_type": "stream",
     "text": [
      "Product review - Walmart.com\n"
     ]
    }
   ],
   "source": [
    "print(driver.title)"
   ]
  },
  {
   "cell_type": "code",
   "execution_count": 12,
   "id": "9099a4aa",
   "metadata": {},
   "outputs": [],
   "source": [
    "mains = driver.find_element_by_xpath('/html/body/div[1]/div/div/div/div[1]/div/div[6]/div[1]/div[1]/div/div[1]')\n",
    "date = driver.find_element_by_xpath('/html/body/div[1]/div/div/div/div[1]/div/div[6]/div[1]/div[1]/div/div[1]/div/div[2]/span')\n",
    "name = driver.find_element_by_xpath('/html/body/div[1]/div/div/div/div[1]/div/div[6]/div[1]/div[1]/div/div[1]/div/div[4]/div/div/span[2]')\n",
    "title = driver.find_element_by_xpath('/html/body/div[1]/div/div/div/div[1]/div/div[6]/div[1]/div[1]/div/div[1]/div/div[1]/div[1]/h3')\n",
    "rating = driver.find_element_by_xpath('/html/body/div[1]/div/div/div/div[1]/div/div[6]/div[1]/div[1]/div/div[1]/div/div[1]/div[1]/div/div')\n",
    "#print(rating.text)\n",
    "desc = driver.find_element_by_xpath('/html/body/div[1]/div/div/div/div[1]/div/div[6]/div[1]/div[1]/div/div[1]/div/div[3]/div/div')\n"
   ]
  },
  {
   "cell_type": "code",
   "execution_count": 23,
   "id": "afc72e9a",
   "metadata": {
    "scrolled": true
   },
   "outputs": [],
   "source": [
    "datelist =[]\n",
    "link = driver.find_element_by_xpath('/html/body/div[1]/div/div/div/div[1]/div/div[6]/div[2]/div/div/button')\n",
    "one = '/html/body/div[1]/div/div/div/div[1]/div/div[6]/div[1]/div['\n",
    "two = ']/div/div[1]/div/div[2]'\n",
    "for i in range(0,5):\n",
    "    link.click()\n",
    "    for x in range(1,20,1) :\n",
    "        path = one+str(x)+two\n",
    "        date = driver.find_element_by_xpath(path)\n",
    "        datelist.append(date.text)\n",
    "    "
   ]
  },
  {
   "cell_type": "code",
   "execution_count": 26,
   "id": "e4883746",
   "metadata": {},
   "outputs": [],
   "source": [
    "namelist =[]\n",
    "link = driver.find_element_by_xpath('/html/body/div[1]/div/div/div/div[1]/div/div[6]/div[2]/div/div/button')\n",
    "one = '/html/body/div[1]/div/div/div/div[1]/div/div[6]/div[1]/div['\n",
    "two = ']/div/div[1]/div/div[4]/div/div/span[2]'\n",
    "for i in range(0,5):\n",
    "    link.click()\n",
    "    for x in range(1,20,1) :\n",
    "        path = one+str(x)+two\n",
    "        name = driver.find_element_by_xpath(path)\n",
    "        \n",
    "        namelist.append(name.text)\n",
    "    "
   ]
  },
  {
   "cell_type": "code",
   "execution_count": 28,
   "id": "740b61e7",
   "metadata": {},
   "outputs": [],
   "source": [
    "starlist =[]\n",
    "\n",
    "link = driver.find_element_by_xpath('/html/body/div[1]/div/div/div/div[1]/div/div[6]/div[2]/div/div/button')\n",
    "one = '/html/body/div[1]/div/div/div/div[1]/div/div[6]/div[1]/div['\n",
    "two = ']/div/div[1]/div/div[1]/div[1]/div/div'\n",
    "for i in range(0,5):\n",
    "    link.click()\n",
    "    for x in range(1,20,1) :\n",
    "        path = one+str(x)+two\n",
    "        rating = driver.find_element_by_xpath(path)\n",
    "        \n",
    "        starlist.append(rating.text)\n",
    "    "
   ]
  },
  {
   "cell_type": "code",
   "execution_count": 30,
   "id": "3e38ea55",
   "metadata": {},
   "outputs": [],
   "source": [
    "titlelist =[]\n",
    "link = driver.find_element_by_xpath('/html/body/div[1]/div/div/div/div[1]/div/div[6]/div[2]/div/div/button')\n",
    "one = '/html/body/div[1]/div/div/div/div[1]/div/div[6]/div[1]/div['\n",
    "two = ']/div/div[1]/div/div[1]/div[1]/h3'\n",
    "for i in range(0,5):\n",
    "    link.click()\n",
    "    for x in range(1,20,1) :\n",
    "        path = one+str(x)+two\n",
    "        title = driver.find_element_by_xpath(path)\n",
    "        titlelist.append(title.text)"
   ]
  },
  {
   "cell_type": "code",
   "execution_count": 32,
   "id": "61db1410",
   "metadata": {},
   "outputs": [],
   "source": [
    "desclist =[]\n",
    "link = driver.find_element_by_xpath('/html/body/div[1]/div/div/div/div[1]/div/div[6]/div[2]/div/div/button')\n",
    "one = '/html/body/div[1]/div/div/div/div[1]/div/div[6]/div[1]/div['\n",
    "two = ']/div/div[1]/div/div[3]/div/div'\n",
    "for i in range(0,5):\n",
    "    link.click()\n",
    "    for x in range(1,20,1) :\n",
    "        path = one+str(x)+two\n",
    "        desc = driver.find_element_by_xpath(path)\n",
    "        desclist.append(desc.text)\n"
   ]
  },
  {
   "cell_type": "code",
   "execution_count": 33,
   "id": "d46aca6c",
   "metadata": {},
   "outputs": [],
   "source": [
    "all_items = {\n",
    "    'title' : titlelist,\n",
    "    'description' : desclist,\n",
    "    'Date' : datelist,\n",
    "    'Rating' : starlist,\n",
    "    'Names' : namelist\n",
    "}\n"
   ]
  },
  {
   "cell_type": "code",
   "execution_count": 34,
   "id": "a43dd5a4",
   "metadata": {},
   "outputs": [],
   "source": [
    "import pandas as pd\n",
    "df = pd.DataFrame(all_items)"
   ]
  },
  {
   "cell_type": "code",
   "execution_count": 35,
   "id": "39d85713",
   "metadata": {},
   "outputs": [],
   "source": [
    "df.to_csv(r'C:\\Users\\HP\\Desktop\\web.csv')"
   ]
  }
 ],
 "metadata": {
  "kernelspec": {
   "display_name": "Python 3",
   "language": "python",
   "name": "python3"
  },
  "language_info": {
   "codemirror_mode": {
    "name": "ipython",
    "version": 3
   },
   "file_extension": ".py",
   "mimetype": "text/x-python",
   "name": "python",
   "nbconvert_exporter": "python",
   "pygments_lexer": "ipython3",
   "version": "3.8.10"
  }
 },
 "nbformat": 4,
 "nbformat_minor": 5
}
